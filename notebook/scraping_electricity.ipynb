{
 "cells": [
  {
   "cell_type": "markdown",
   "id": "61ec7cb5-8d93-4d2b-9f10-90422fd5232d",
   "metadata": {},
   "source": [
    "# 需給実績をとる"
   ]
  },
  {
   "cell_type": "code",
   "execution_count": 30,
   "id": "5bffec5f-7c11-48d6-9803-1164fa559fed",
   "metadata": {},
   "outputs": [],
   "source": [
    "import pandas as pd\n",
    "import matplotlib.pyplot as plt \n",
    "import numpy as np\n",
    "import requests\n",
    "from bs4 import BeautifulSoup"
   ]
  },
  {
   "cell_type": "markdown",
   "id": "0ca34451-12e0-48ef-a7ba-313212d90c84",
   "metadata": {},
   "source": [
    "## 関西電力"
   ]
  },
  {
   "cell_type": "code",
   "execution_count": 26,
   "id": "9efecadb-0b1e-4068-b69c-a5d8c5700ee9",
   "metadata": {},
   "outputs": [],
   "source": [
    "## 新しい方\n",
    "LIMIT=10\n",
    "url = \"https://www.kansai-td.co.jp/interchange/denkiyoho/area-performance/eria_jukyu_202404_06.csv\"\n",
    "for i in range(LIMIT):\n",
    "    print(f\"No {i} try getting {url}\")\n",
    "    res=requests.get(url)\n",
    "    if res.ok:\n",
    "        data = res.content.decode(encoding=\"shift-jis\")\n",
    "        with open(\"../data/kanden.csv\", \"wt\") as f:\n",
    "            f.write(data)\n",
    "        print(\"success\")\n",
    "        break\n",
    "    else:\n",
    "        url=\"xxxxxxxxxxxx\"\n",
    "    \n",
    "# ## 古い方\n",
    "###\"https://www.kansai-td.co.jp/interchange/denkiyoho/area-performance/eria_jukyu_202403_06.csv\"\n",
    "\n"
   ]
  },
  {
   "cell_type": "code",
   "execution_count": 35,
   "id": "99ef84ac-bc4f-4859-88d8-f0d47929452f",
   "metadata": {},
   "outputs": [
    {
     "data": {
      "text/plain": [
       "[<a class=\"link_csv\" href=\"./csv/area_jyukyu_jisseki_2023.csv\" target=\"_blank\">2023å¹´åº¦ï¼4æï½2æï¼ï¼»<span class=\"filesize_auto\">498,385B</span>ï¼½</a>,\n",
       " <a class=\"link_csv\" href=\"./csv/area_jyukyu_jisseki_2022.csv\" target=\"_blank\">2022å¹´åº¦ï¼»<span class=\"filesize_auto\">539,715B</span>ï¼½</a>,\n",
       " <a class=\"link_csv\" href=\"./csv/area_jyukyu_jisseki_2021.csv\" target=\"_blank\">2021å¹´åº¦ï¼»<span class=\"filesize_auto\">535,803B</span>ï¼½</a>,\n",
       " <a class=\"link_csv\" href=\"./csv/area_jyukyu_jisseki_2020.csv\" target=\"_blank\">2020å¹´åº¦ï¼»<span class=\"filesize_auto\">528,897B</span>ï¼½</a>,\n",
       " <a class=\"link_csv\" href=\"./csv/area_jyukyu_jisseki_2019.csv\" target=\"_blank\">2019å¹´åº¦ï¼»<span class=\"filesize_auto\">537,615B</span>ï¼½</a>,\n",
       " <a class=\"link_csv\" href=\"./csv/area_jyukyu_jisseki_2018.csv\" target=\"_blank\">2018å¹´åº¦ï¼»<span class=\"filesize_auto\">531,086B</span>ï¼½</a>,\n",
       " <a class=\"link_csv\" href=\"./csv/area_jyukyu_jisseki_2017.csv\" target=\"_blank\">2017å¹´åº¦ï¼»<span class=\"filesize_auto\">527,117B</span>ï¼½</a>,\n",
       " <a class=\"link_csv\" href=\"./csv/area_jyukyu_jisseki_2016.csv\" target=\"_blank\">2016å¹´åº¦ï¼»<span class=\"filesize_auto\">505,212B</span>ï¼½</a>,\n",
       " <a :href=\"`/interchange/denkiyoho/area-performance/${item.name}`\" class=\"link_csv\" target=\"_blank\">\n",
       " \t\t\t\t{{item.label}}ï¼»<span class=\"filesize_auto\">{{item.size}}B</span>ï¼½\n",
       " \t\t\t</a>]"
      ]
     },
     "execution_count": 35,
     "metadata": {},
     "output_type": "execute_result"
    }
   ],
   "source": [
    "## bs4でリンクを解析するのはjsで生成されているところがあるから厳しそう。\n",
    "res = requests.get(\"https://www.kansai-td.co.jp/denkiyoho/area-performance/past.html\")\n",
    "soup = BeautifulSoup(res.text, \"html.parser\")\n",
    "soup.find_all(\"a\",{\"class\":\"link_csv\"})"
   ]
  },
  {
   "cell_type": "markdown",
   "id": "aa8d8111-f55a-48d8-866d-3e2ea32a2601",
   "metadata": {},
   "source": [
    "## 中部電力"
   ]
  },
  {
   "cell_type": "code",
   "execution_count": null,
   "id": "1f9ceba4-0467-4750-bdd0-48bedaa4bae5",
   "metadata": {},
   "outputs": [],
   "source": [
    "url=\"https://powergrid.chuden.co.jp/denki_yoho_content_data/eria_jukyu_202403_04.csv\"\n",
    "\"https://powergrid.chuden.co.jp/denki_yoho_content_data/eria_jukyu_202403_04.csv\"\n",
    "\"https://powergrid.chuden.co.jp/denki_yoho_content_data/eria_jukyu_202404_04.csv\""
   ]
  },
  {
   "cell_type": "code",
   "execution_count": 36,
   "id": "76158d03-2e6c-4f1c-af0a-22609f84f1b4",
   "metadata": {},
   "outputs": [
    {
     "name": "stdout",
     "output_type": "stream",
     "text": [
      "No 0 try getting https://powergrid.chuden.co.jp/denki_yoho_content_data/eria_jukyu_202403_04.csv\n",
      "success\n"
     ]
    }
   ],
   "source": [
    "## 新しい方\n",
    "LIMIT=10\n",
    "url = \"https://powergrid.chuden.co.jp/denki_yoho_content_data/eria_jukyu_202403_04.csv\"\n",
    "for i in range(LIMIT):\n",
    "    print(f\"No {i} try getting {url}\")\n",
    "    res=requests.get(url)\n",
    "    if res.ok:\n",
    "        data = res.content.decode(encoding=\"shift-jis\")\n",
    "        with open(\"../data/chuden.csv\", \"wt\") as f:\n",
    "            f.write(data)\n",
    "        print(\"success\")\n",
    "        break\n",
    "    else:\n",
    "        url=\"xxxxxxxxxxxx\""
   ]
  },
  {
   "cell_type": "code",
   "execution_count": null,
   "id": "295a9b22-2f49-4365-b170-bd23c7e05c55",
   "metadata": {},
   "outputs": [],
   "source": []
  },
  {
   "cell_type": "markdown",
   "id": "07827fa1-f6f5-410d-b623-f17bb036769c",
   "metadata": {},
   "source": [
    "## 東京電力"
   ]
  },
  {
   "cell_type": "code",
   "execution_count": 41,
   "id": "aed87535-ce7d-4ef2-902f-f9f243642d99",
   "metadata": {},
   "outputs": [
    {
     "name": "stdout",
     "output_type": "stream",
     "text": [
      "No 0 try getting https://www.tepco.co.jp/forecast/html/images/eria_jukyu_202404_03.csv\n",
      "success\n"
     ]
    }
   ],
   "source": [
    "## 新しい方\n",
    "LIMIT=10\n",
    "url = \"https://www.tepco.co.jp/forecast/html/images/eria_jukyu_202404_03.csv\"\n",
    "for i in range(LIMIT):\n",
    "    print(f\"No {i} try getting {url}\")\n",
    "    res=requests.get(url)\n",
    "    if res.ok:\n",
    "        data = res.content.decode(encoding=\"utf-8\")\n",
    "        with open(\"../data/touden.csv\", \"wt\") as f:\n",
    "            f.write(data)\n",
    "        print(\"success\")\n",
    "        break\n",
    "    else:\n",
    "        url=\"xxxxxxxxxxxx\""
   ]
  },
  {
   "cell_type": "markdown",
   "id": "05bdd3b2-a32a-461d-9ef3-af9e7dcfd62d",
   "metadata": {},
   "source": [
    "## 九州電力"
   ]
  },
  {
   "cell_type": "code",
   "execution_count": 43,
   "id": "eaa8ea79-bbbc-4ebe-b619-00492a411fd9",
   "metadata": {},
   "outputs": [
    {
     "name": "stdout",
     "output_type": "stream",
     "text": [
      "No 0 try getting https://www.kyuden.co.jp/td_area_jukyu/csv/eria_jukyu_202404_09.csv\n",
      "success\n"
     ]
    }
   ],
   "source": [
    "## 新しい方\n",
    "LIMIT=10\n",
    "url = \"https://www.kyuden.co.jp/td_area_jukyu/csv/eria_jukyu_202404_09.csv\"\n",
    "for i in range(LIMIT):\n",
    "    print(f\"No {i} try getting {url}\")\n",
    "    res=requests.get(url)\n",
    "    if res.ok:\n",
    "        data = res.content.decode(encoding=\"shift-jis\")\n",
    "        with open(\"../data/kyuden.csv\", \"wt\") as f:\n",
    "            f.write(data)\n",
    "        print(\"success\")\n",
    "        break\n",
    "    else:\n",
    "        url=\"xxxxxxxxxxxx\""
   ]
  },
  {
   "cell_type": "markdown",
   "id": "35ee52c7-0e30-4dc1-8f1e-7e6df7b54d9c",
   "metadata": {},
   "source": [
    "## 四国電力"
   ]
  },
  {
   "cell_type": "code",
   "execution_count": 44,
   "id": "3ee3144c-4ad4-416d-8ed5-9889e27845ea",
   "metadata": {},
   "outputs": [
    {
     "name": "stdout",
     "output_type": "stream",
     "text": [
      "No 0 try getting https://www.yonden.co.jp/nw/supply_demand/csv/eria_jukyu_202403_08.csv\n",
      "success\n"
     ]
    }
   ],
   "source": [
    "## 新しい方\n",
    "LIMIT=10\n",
    "url = \"https://www.yonden.co.jp/nw/supply_demand/csv/eria_jukyu_202403_08.csv\"\n",
    "for i in range(LIMIT):\n",
    "    print(f\"No {i} try getting {url}\")\n",
    "    res=requests.get(url)\n",
    "    if res.ok:\n",
    "        data = res.content.decode(encoding=\"shift-jis\")\n",
    "        with open(\"../data/shikoku.csv\", \"wt\") as f:\n",
    "            f.write(data)\n",
    "        print(\"success\")\n",
    "        break\n",
    "    else:\n",
    "        url=\"xxxxxxxxxxxx\""
   ]
  },
  {
   "cell_type": "markdown",
   "id": "05a1d498-7f30-42fa-a308-69c9250ba280",
   "metadata": {},
   "source": [
    "## 中国電力"
   ]
  },
  {
   "cell_type": "code",
   "execution_count": 45,
   "id": "712be04b-6098-45ea-818c-c830afcdd1a0",
   "metadata": {},
   "outputs": [
    {
     "name": "stdout",
     "output_type": "stream",
     "text": [
      "No 0 try getting https://www.energia.co.jp/nw/jukyuu/sys/eria_jukyu_202403_07.csv\n",
      "success\n"
     ]
    }
   ],
   "source": [
    "## 新しい方\n",
    "LIMIT=10\n",
    "url = \"https://www.energia.co.jp/nw/jukyuu/sys/eria_jukyu_202403_07.csv\"\n",
    "for i in range(LIMIT):\n",
    "    print(f\"No {i} try getting {url}\")\n",
    "    res=requests.get(url)\n",
    "    if res.ok:\n",
    "        data = res.content.decode(encoding=\"shift-jis\")\n",
    "        with open(\"../data/chugoku.csv\", \"wt\") as f:\n",
    "            f.write(data)\n",
    "        print(\"success\")\n",
    "        break\n",
    "    else:\n",
    "        url=\"xxxxxxxxxxxx\""
   ]
  },
  {
   "cell_type": "markdown",
   "id": "8a278a25-531d-4144-b4fc-c4ba0d8b93fa",
   "metadata": {},
   "source": [
    "## 東北電力"
   ]
  },
  {
   "cell_type": "code",
   "execution_count": null,
   "id": "71885a03-0c66-46fe-aa75-4ff2fb5e3ae9",
   "metadata": {},
   "outputs": [],
   "source": [
    "## selenium不可避"
   ]
  },
  {
   "cell_type": "markdown",
   "id": "58cb104e-539c-48c4-9533-6964df3e6ab0",
   "metadata": {},
   "source": [
    "\n",
    "## 北海道電力"
   ]
  },
  {
   "cell_type": "code",
   "execution_count": null,
   "id": "ec9424ae-8d47-4e79-8b9b-f51f68a15bdc",
   "metadata": {},
   "outputs": [],
   "source": [
    "## データがありません"
   ]
  },
  {
   "cell_type": "markdown",
   "id": "0b37d8ab-73d5-4115-b48f-a7546c8589cf",
   "metadata": {},
   "source": [
    "## 北陸電力"
   ]
  },
  {
   "cell_type": "code",
   "execution_count": 46,
   "id": "5bdbbcf3-c265-44fe-b14e-1a49135efbac",
   "metadata": {},
   "outputs": [
    {
     "name": "stdout",
     "output_type": "stream",
     "text": [
      "No 0 try getting https://www.rikuden.co.jp/nw/denki-yoho/csv/eria_jukyu_202404_05.csv\n",
      "success\n"
     ]
    }
   ],
   "source": [
    "## \n",
    "\n",
    "\n",
    "LIMIT=10\n",
    "url = \"https://www.rikuden.co.jp/nw/denki-yoho/csv/eria_jukyu_202404_05.csv\"\n",
    "for i in range(LIMIT):\n",
    "    print(f\"No {i} try getting {url}\")\n",
    "    res=requests.get(url)\n",
    "    if res.ok:\n",
    "        data = res.content.decode(encoding=\"shift-jis\")\n",
    "        with open(\"../data/hokuriku.csv\", \"wt\") as f:\n",
    "            f.write(data)\n",
    "        print(\"success\")\n",
    "        break\n",
    "    else:\n",
    "        url=\"xxxxxxxxxxxx\""
   ]
  },
  {
   "cell_type": "code",
   "execution_count": null,
   "id": "646788f2-8d61-4065-9a3c-b7b114e192f0",
   "metadata": {},
   "outputs": [],
   "source": []
  }
 ],
 "metadata": {
  "kernelspec": {
   "display_name": "Python 3 (ipykernel)",
   "language": "python",
   "name": "python3"
  },
  "language_info": {
   "codemirror_mode": {
    "name": "ipython",
    "version": 3
   },
   "file_extension": ".py",
   "mimetype": "text/x-python",
   "name": "python",
   "nbconvert_exporter": "python",
   "pygments_lexer": "ipython3",
   "version": "3.9.15"
  }
 },
 "nbformat": 4,
 "nbformat_minor": 5
}
